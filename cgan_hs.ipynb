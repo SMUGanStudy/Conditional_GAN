{
  "cells": [
    {
      "cell_type": "code",
      "execution_count": null,
      "metadata": {
        "colab": {
          "base_uri": "https://localhost:8080/"
        },
        "id": "TS_ATfkDdUT0",
        "outputId": "7325a726-772f-43dc-8eed-b7c7f2115186"
      },
      "outputs": [
        {
          "output_type": "stream",
          "name": "stdout",
          "text": [
            "Collecting wandb\n",
            "  Downloading wandb-0.12.11-py2.py3-none-any.whl (1.7 MB)\n",
            "\u001b[?25l\r\u001b[K     |▏                               | 10 kB 34.0 MB/s eta 0:00:01\r\u001b[K     |▍                               | 20 kB 39.2 MB/s eta 0:00:01\r\u001b[K     |▋                               | 30 kB 42.2 MB/s eta 0:00:01\r\u001b[K     |▊                               | 40 kB 36.6 MB/s eta 0:00:01\r\u001b[K     |█                               | 51 kB 39.7 MB/s eta 0:00:01\r\u001b[K     |█▏                              | 61 kB 43.8 MB/s eta 0:00:01\r\u001b[K     |█▎                              | 71 kB 31.4 MB/s eta 0:00:01\r\u001b[K     |█▌                              | 81 kB 32.7 MB/s eta 0:00:01\r\u001b[K     |█▊                              | 92 kB 35.1 MB/s eta 0:00:01\r\u001b[K     |█▉                              | 102 kB 33.8 MB/s eta 0:00:01\r\u001b[K     |██                              | 112 kB 33.8 MB/s eta 0:00:01\r\u001b[K     |██▎                             | 122 kB 33.8 MB/s eta 0:00:01\r\u001b[K     |██▍                             | 133 kB 33.8 MB/s eta 0:00:01\r\u001b[K     |██▋                             | 143 kB 33.8 MB/s eta 0:00:01\r\u001b[K     |██▉                             | 153 kB 33.8 MB/s eta 0:00:01\r\u001b[K     |███                             | 163 kB 33.8 MB/s eta 0:00:01\r\u001b[K     |███▏                            | 174 kB 33.8 MB/s eta 0:00:01\r\u001b[K     |███▍                            | 184 kB 33.8 MB/s eta 0:00:01\r\u001b[K     |███▋                            | 194 kB 33.8 MB/s eta 0:00:01\r\u001b[K     |███▊                            | 204 kB 33.8 MB/s eta 0:00:01\r\u001b[K     |████                            | 215 kB 33.8 MB/s eta 0:00:01\r\u001b[K     |████▏                           | 225 kB 33.8 MB/s eta 0:00:01\r\u001b[K     |████▎                           | 235 kB 33.8 MB/s eta 0:00:01\r\u001b[K     |████▌                           | 245 kB 33.8 MB/s eta 0:00:01\r\u001b[K     |████▊                           | 256 kB 33.8 MB/s eta 0:00:01\r\u001b[K     |████▉                           | 266 kB 33.8 MB/s eta 0:00:01\r\u001b[K     |█████                           | 276 kB 33.8 MB/s eta 0:00:01\r\u001b[K     |█████▎                          | 286 kB 33.8 MB/s eta 0:00:01\r\u001b[K     |█████▌                          | 296 kB 33.8 MB/s eta 0:00:01\r\u001b[K     |█████▋                          | 307 kB 33.8 MB/s eta 0:00:01\r\u001b[K     |█████▉                          | 317 kB 33.8 MB/s eta 0:00:01\r\u001b[K     |██████                          | 327 kB 33.8 MB/s eta 0:00:01\r\u001b[K     |██████▏                         | 337 kB 33.8 MB/s eta 0:00:01\r\u001b[K     |██████▍                         | 348 kB 33.8 MB/s eta 0:00:01\r\u001b[K     |██████▋                         | 358 kB 33.8 MB/s eta 0:00:01\r\u001b[K     |██████▊                         | 368 kB 33.8 MB/s eta 0:00:01\r\u001b[K     |███████                         | 378 kB 33.8 MB/s eta 0:00:01\r\u001b[K     |███████▏                        | 389 kB 33.8 MB/s eta 0:00:01\r\u001b[K     |███████▎                        | 399 kB 33.8 MB/s eta 0:00:01\r\u001b[K     |███████▌                        | 409 kB 33.8 MB/s eta 0:00:01\r\u001b[K     |███████▊                        | 419 kB 33.8 MB/s eta 0:00:01\r\u001b[K     |███████▉                        | 430 kB 33.8 MB/s eta 0:00:01\r\u001b[K     |████████                        | 440 kB 33.8 MB/s eta 0:00:01\r\u001b[K     |████████▎                       | 450 kB 33.8 MB/s eta 0:00:01\r\u001b[K     |████████▌                       | 460 kB 33.8 MB/s eta 0:00:01\r\u001b[K     |████████▋                       | 471 kB 33.8 MB/s eta 0:00:01\r\u001b[K     |████████▉                       | 481 kB 33.8 MB/s eta 0:00:01\r\u001b[K     |█████████                       | 491 kB 33.8 MB/s eta 0:00:01\r\u001b[K     |█████████▏                      | 501 kB 33.8 MB/s eta 0:00:01\r\u001b[K     |█████████▍                      | 512 kB 33.8 MB/s eta 0:00:01\r\u001b[K     |█████████▋                      | 522 kB 33.8 MB/s eta 0:00:01\r\u001b[K     |█████████▊                      | 532 kB 33.8 MB/s eta 0:00:01\r\u001b[K     |██████████                      | 542 kB 33.8 MB/s eta 0:00:01\r\u001b[K     |██████████▏                     | 552 kB 33.8 MB/s eta 0:00:01\r\u001b[K     |██████████▎                     | 563 kB 33.8 MB/s eta 0:00:01\r\u001b[K     |██████████▌                     | 573 kB 33.8 MB/s eta 0:00:01\r\u001b[K     |██████████▊                     | 583 kB 33.8 MB/s eta 0:00:01\r\u001b[K     |███████████                     | 593 kB 33.8 MB/s eta 0:00:01\r\u001b[K     |███████████                     | 604 kB 33.8 MB/s eta 0:00:01\r\u001b[K     |███████████▎                    | 614 kB 33.8 MB/s eta 0:00:01\r\u001b[K     |███████████▌                    | 624 kB 33.8 MB/s eta 0:00:01\r\u001b[K     |███████████▋                    | 634 kB 33.8 MB/s eta 0:00:01\r\u001b[K     |███████████▉                    | 645 kB 33.8 MB/s eta 0:00:01\r\u001b[K     |████████████                    | 655 kB 33.8 MB/s eta 0:00:01\r\u001b[K     |████████████▏                   | 665 kB 33.8 MB/s eta 0:00:01\r\u001b[K     |████████████▍                   | 675 kB 33.8 MB/s eta 0:00:01\r\u001b[K     |████████████▋                   | 686 kB 33.8 MB/s eta 0:00:01\r\u001b[K     |████████████▊                   | 696 kB 33.8 MB/s eta 0:00:01\r\u001b[K     |█████████████                   | 706 kB 33.8 MB/s eta 0:00:01\r\u001b[K     |█████████████▏                  | 716 kB 33.8 MB/s eta 0:00:01\r\u001b[K     |█████████████▍                  | 727 kB 33.8 MB/s eta 0:00:01\r\u001b[K     |█████████████▌                  | 737 kB 33.8 MB/s eta 0:00:01\r\u001b[K     |█████████████▊                  | 747 kB 33.8 MB/s eta 0:00:01\r\u001b[K     |██████████████                  | 757 kB 33.8 MB/s eta 0:00:01\r\u001b[K     |██████████████                  | 768 kB 33.8 MB/s eta 0:00:01\r\u001b[K     |██████████████▎                 | 778 kB 33.8 MB/s eta 0:00:01\r\u001b[K     |██████████████▌                 | 788 kB 33.8 MB/s eta 0:00:01\r\u001b[K     |██████████████▋                 | 798 kB 33.8 MB/s eta 0:00:01\r\u001b[K     |██████████████▉                 | 808 kB 33.8 MB/s eta 0:00:01\r\u001b[K     |███████████████                 | 819 kB 33.8 MB/s eta 0:00:01\r\u001b[K     |███████████████▏                | 829 kB 33.8 MB/s eta 0:00:01\r\u001b[K     |███████████████▍                | 839 kB 33.8 MB/s eta 0:00:01\r\u001b[K     |███████████████▋                | 849 kB 33.8 MB/s eta 0:00:01\r\u001b[K     |███████████████▊                | 860 kB 33.8 MB/s eta 0:00:01\r\u001b[K     |████████████████                | 870 kB 33.8 MB/s eta 0:00:01\r\u001b[K     |████████████████▏               | 880 kB 33.8 MB/s eta 0:00:01\r\u001b[K     |████████████████▍               | 890 kB 33.8 MB/s eta 0:00:01\r\u001b[K     |████████████████▌               | 901 kB 33.8 MB/s eta 0:00:01\r\u001b[K     |████████████████▊               | 911 kB 33.8 MB/s eta 0:00:01\r\u001b[K     |█████████████████               | 921 kB 33.8 MB/s eta 0:00:01\r\u001b[K     |█████████████████               | 931 kB 33.8 MB/s eta 0:00:01\r\u001b[K     |█████████████████▎              | 942 kB 33.8 MB/s eta 0:00:01\r\u001b[K     |█████████████████▌              | 952 kB 33.8 MB/s eta 0:00:01\r\u001b[K     |█████████████████▋              | 962 kB 33.8 MB/s eta 0:00:01\r\u001b[K     |█████████████████▉              | 972 kB 33.8 MB/s eta 0:00:01\r\u001b[K     |██████████████████              | 983 kB 33.8 MB/s eta 0:00:01\r\u001b[K     |██████████████████▏             | 993 kB 33.8 MB/s eta 0:00:01\r\u001b[K     |██████████████████▍             | 1.0 MB 33.8 MB/s eta 0:00:01\r\u001b[K     |██████████████████▋             | 1.0 MB 33.8 MB/s eta 0:00:01\r\u001b[K     |██████████████████▉             | 1.0 MB 33.8 MB/s eta 0:00:01\r\u001b[K     |███████████████████             | 1.0 MB 33.8 MB/s eta 0:00:01\r\u001b[K     |███████████████████▏            | 1.0 MB 33.8 MB/s eta 0:00:01\r\u001b[K     |███████████████████▍            | 1.1 MB 33.8 MB/s eta 0:00:01\r\u001b[K     |███████████████████▌            | 1.1 MB 33.8 MB/s eta 0:00:01\r\u001b[K     |███████████████████▊            | 1.1 MB 33.8 MB/s eta 0:00:01\r\u001b[K     |████████████████████            | 1.1 MB 33.8 MB/s eta 0:00:01\r\u001b[K     |████████████████████            | 1.1 MB 33.8 MB/s eta 0:00:01\r\u001b[K     |████████████████████▎           | 1.1 MB 33.8 MB/s eta 0:00:01\r\u001b[K     |████████████████████▌           | 1.1 MB 33.8 MB/s eta 0:00:01\r\u001b[K     |████████████████████▋           | 1.1 MB 33.8 MB/s eta 0:00:01\r\u001b[K     |████████████████████▉           | 1.1 MB 33.8 MB/s eta 0:00:01\r\u001b[K     |█████████████████████           | 1.1 MB 33.8 MB/s eta 0:00:01\r\u001b[K     |█████████████████████▏          | 1.2 MB 33.8 MB/s eta 0:00:01\r\u001b[K     |█████████████████████▍          | 1.2 MB 33.8 MB/s eta 0:00:01\r\u001b[K     |█████████████████████▋          | 1.2 MB 33.8 MB/s eta 0:00:01\r\u001b[K     |█████████████████████▉          | 1.2 MB 33.8 MB/s eta 0:00:01\r\u001b[K     |██████████████████████          | 1.2 MB 33.8 MB/s eta 0:00:01\r\u001b[K     |██████████████████████▏         | 1.2 MB 33.8 MB/s eta 0:00:01\r\u001b[K     |██████████████████████▍         | 1.2 MB 33.8 MB/s eta 0:00:01\r\u001b[K     |██████████████████████▌         | 1.2 MB 33.8 MB/s eta 0:00:01\r\u001b[K     |██████████████████████▊         | 1.2 MB 33.8 MB/s eta 0:00:01\r\u001b[K     |███████████████████████         | 1.2 MB 33.8 MB/s eta 0:00:01\r\u001b[K     |███████████████████████         | 1.3 MB 33.8 MB/s eta 0:00:01\r\u001b[K     |███████████████████████▎        | 1.3 MB 33.8 MB/s eta 0:00:01\r\u001b[K     |███████████████████████▌        | 1.3 MB 33.8 MB/s eta 0:00:01\r\u001b[K     |███████████████████████▋        | 1.3 MB 33.8 MB/s eta 0:00:01\r\u001b[K     |███████████████████████▉        | 1.3 MB 33.8 MB/s eta 0:00:01\r\u001b[K     |████████████████████████        | 1.3 MB 33.8 MB/s eta 0:00:01\r\u001b[K     |████████████████████████▎       | 1.3 MB 33.8 MB/s eta 0:00:01\r\u001b[K     |████████████████████████▍       | 1.3 MB 33.8 MB/s eta 0:00:01\r\u001b[K     |████████████████████████▋       | 1.3 MB 33.8 MB/s eta 0:00:01\r\u001b[K     |████████████████████████▉       | 1.4 MB 33.8 MB/s eta 0:00:01\r\u001b[K     |█████████████████████████       | 1.4 MB 33.8 MB/s eta 0:00:01\r\u001b[K     |█████████████████████████▏      | 1.4 MB 33.8 MB/s eta 0:00:01\r\u001b[K     |█████████████████████████▍      | 1.4 MB 33.8 MB/s eta 0:00:01\r\u001b[K     |█████████████████████████▌      | 1.4 MB 33.8 MB/s eta 0:00:01\r\u001b[K     |█████████████████████████▊      | 1.4 MB 33.8 MB/s eta 0:00:01\r\u001b[K     |██████████████████████████      | 1.4 MB 33.8 MB/s eta 0:00:01\r\u001b[K     |██████████████████████████      | 1.4 MB 33.8 MB/s eta 0:00:01\r\u001b[K     |██████████████████████████▎     | 1.4 MB 33.8 MB/s eta 0:00:01\r\u001b[K     |██████████████████████████▌     | 1.4 MB 33.8 MB/s eta 0:00:01\r\u001b[K     |██████████████████████████▊     | 1.5 MB 33.8 MB/s eta 0:00:01\r\u001b[K     |██████████████████████████▉     | 1.5 MB 33.8 MB/s eta 0:00:01\r\u001b[K     |███████████████████████████     | 1.5 MB 33.8 MB/s eta 0:00:01\r\u001b[K     |███████████████████████████▎    | 1.5 MB 33.8 MB/s eta 0:00:01\r\u001b[K     |███████████████████████████▍    | 1.5 MB 33.8 MB/s eta 0:00:01\r\u001b[K     |███████████████████████████▋    | 1.5 MB 33.8 MB/s eta 0:00:01\r\u001b[K     |███████████████████████████▉    | 1.5 MB 33.8 MB/s eta 0:00:01\r\u001b[K     |████████████████████████████    | 1.5 MB 33.8 MB/s eta 0:00:01\r\u001b[K     |████████████████████████████▏   | 1.5 MB 33.8 MB/s eta 0:00:01\r\u001b[K     |████████████████████████████▍   | 1.5 MB 33.8 MB/s eta 0:00:01\r\u001b[K     |████████████████████████████▌   | 1.6 MB 33.8 MB/s eta 0:00:01\r\u001b[K     |████████████████████████████▊   | 1.6 MB 33.8 MB/s eta 0:00:01\r\u001b[K     |█████████████████████████████   | 1.6 MB 33.8 MB/s eta 0:00:01\r\u001b[K     |█████████████████████████████   | 1.6 MB 33.8 MB/s eta 0:00:01\r\u001b[K     |█████████████████████████████▎  | 1.6 MB 33.8 MB/s eta 0:00:01\r\u001b[K     |█████████████████████████████▌  | 1.6 MB 33.8 MB/s eta 0:00:01\r\u001b[K     |█████████████████████████████▊  | 1.6 MB 33.8 MB/s eta 0:00:01\r\u001b[K     |█████████████████████████████▉  | 1.6 MB 33.8 MB/s eta 0:00:01\r\u001b[K     |██████████████████████████████  | 1.6 MB 33.8 MB/s eta 0:00:01\r\u001b[K     |██████████████████████████████▎ | 1.6 MB 33.8 MB/s eta 0:00:01\r\u001b[K     |██████████████████████████████▍ | 1.7 MB 33.8 MB/s eta 0:00:01\r\u001b[K     |██████████████████████████████▋ | 1.7 MB 33.8 MB/s eta 0:00:01\r\u001b[K     |██████████████████████████████▉ | 1.7 MB 33.8 MB/s eta 0:00:01\r\u001b[K     |███████████████████████████████ | 1.7 MB 33.8 MB/s eta 0:00:01\r\u001b[K     |███████████████████████████████▏| 1.7 MB 33.8 MB/s eta 0:00:01\r\u001b[K     |███████████████████████████████▍| 1.7 MB 33.8 MB/s eta 0:00:01\r\u001b[K     |███████████████████████████████▌| 1.7 MB 33.8 MB/s eta 0:00:01\r\u001b[K     |███████████████████████████████▊| 1.7 MB 33.8 MB/s eta 0:00:01\r\u001b[K     |████████████████████████████████| 1.7 MB 33.8 MB/s eta 0:00:01\r\u001b[K     |████████████████████████████████| 1.7 MB 33.8 MB/s \n",
            "\u001b[?25hCollecting pathtools\n",
            "  Downloading pathtools-0.1.2.tar.gz (11 kB)\n",
            "Requirement already satisfied: PyYAML in /usr/local/lib/python3.7/dist-packages (from wandb) (3.13)\n",
            "Requirement already satisfied: Click!=8.0.0,>=7.0 in /usr/local/lib/python3.7/dist-packages (from wandb) (7.1.2)\n",
            "Requirement already satisfied: promise<3,>=2.0 in /usr/local/lib/python3.7/dist-packages (from wandb) (2.3)\n",
            "Collecting shortuuid>=0.5.0\n",
            "  Downloading shortuuid-1.0.8-py3-none-any.whl (9.5 kB)\n",
            "Requirement already satisfied: psutil>=5.0.0 in /usr/local/lib/python3.7/dist-packages (from wandb) (5.4.8)\n",
            "Requirement already satisfied: six>=1.13.0 in /usr/local/lib/python3.7/dist-packages (from wandb) (1.15.0)\n",
            "Collecting sentry-sdk>=1.0.0\n",
            "  Downloading sentry_sdk-1.5.8-py2.py3-none-any.whl (144 kB)\n",
            "\u001b[K     |████████████████████████████████| 144 kB 63.2 MB/s \n",
            "\u001b[?25hCollecting setproctitle\n",
            "  Downloading setproctitle-1.2.2-cp37-cp37m-manylinux1_x86_64.whl (36 kB)\n",
            "Collecting yaspin>=1.0.0\n",
            "  Downloading yaspin-2.1.0-py3-none-any.whl (18 kB)\n",
            "Requirement already satisfied: python-dateutil>=2.6.1 in /usr/local/lib/python3.7/dist-packages (from wandb) (2.8.2)\n",
            "Requirement already satisfied: requests<3,>=2.0.0 in /usr/local/lib/python3.7/dist-packages (from wandb) (2.23.0)\n",
            "Collecting GitPython>=1.0.0\n",
            "  Downloading GitPython-3.1.27-py3-none-any.whl (181 kB)\n",
            "\u001b[K     |████████████████████████████████| 181 kB 31.5 MB/s \n",
            "\u001b[?25hCollecting docker-pycreds>=0.4.0\n",
            "  Downloading docker_pycreds-0.4.0-py2.py3-none-any.whl (9.0 kB)\n",
            "Requirement already satisfied: protobuf>=3.12.0 in /usr/local/lib/python3.7/dist-packages (from wandb) (3.17.3)\n",
            "Collecting gitdb<5,>=4.0.1\n",
            "  Downloading gitdb-4.0.9-py3-none-any.whl (63 kB)\n",
            "\u001b[K     |████████████████████████████████| 63 kB 2.3 MB/s \n",
            "\u001b[?25hRequirement already satisfied: typing-extensions>=3.7.4.3 in /usr/local/lib/python3.7/dist-packages (from GitPython>=1.0.0->wandb) (3.10.0.2)\n",
            "Collecting smmap<6,>=3.0.1\n",
            "  Downloading smmap-5.0.0-py3-none-any.whl (24 kB)\n",
            "Requirement already satisfied: urllib3!=1.25.0,!=1.25.1,<1.26,>=1.21.1 in /usr/local/lib/python3.7/dist-packages (from requests<3,>=2.0.0->wandb) (1.24.3)\n",
            "Requirement already satisfied: idna<3,>=2.5 in /usr/local/lib/python3.7/dist-packages (from requests<3,>=2.0.0->wandb) (2.10)\n",
            "Requirement already satisfied: certifi>=2017.4.17 in /usr/local/lib/python3.7/dist-packages (from requests<3,>=2.0.0->wandb) (2021.10.8)\n",
            "Requirement already satisfied: chardet<4,>=3.0.2 in /usr/local/lib/python3.7/dist-packages (from requests<3,>=2.0.0->wandb) (3.0.4)\n",
            "Requirement already satisfied: termcolor<2.0.0,>=1.1.0 in /usr/local/lib/python3.7/dist-packages (from yaspin>=1.0.0->wandb) (1.1.0)\n",
            "Building wheels for collected packages: pathtools\n",
            "  Building wheel for pathtools (setup.py) ... \u001b[?25l\u001b[?25hdone\n",
            "  Created wheel for pathtools: filename=pathtools-0.1.2-py3-none-any.whl size=8806 sha256=4a644da51a456d65dd1d8dbb5d8f6f3740e51f26803ac8eb901e3946798de18a\n",
            "  Stored in directory: /root/.cache/pip/wheels/3e/31/09/fa59cef12cdcfecc627b3d24273699f390e71828921b2cbba2\n",
            "Successfully built pathtools\n",
            "Installing collected packages: smmap, gitdb, yaspin, shortuuid, setproctitle, sentry-sdk, pathtools, GitPython, docker-pycreds, wandb\n",
            "Successfully installed GitPython-3.1.27 docker-pycreds-0.4.0 gitdb-4.0.9 pathtools-0.1.2 sentry-sdk-1.5.8 setproctitle-1.2.2 shortuuid-1.0.8 smmap-5.0.0 wandb-0.12.11 yaspin-2.1.0\n"
          ]
        }
      ],
      "source": [
        "!pip install wandb"
      ]
    },
    {
      "cell_type": "code",
      "execution_count": null,
      "metadata": {
        "colab": {
          "base_uri": "https://localhost:8080/"
        },
        "id": "76lAZ5YEAyRz",
        "outputId": "adf72d79-e103-4253-e208-81a3f945fc2f"
      },
      "outputs": [
        {
          "output_type": "stream",
          "name": "stdout",
          "text": [
            "\u001b[34m\u001b[1mwandb\u001b[0m: Currently logged in as: \u001b[33mhyun-s\u001b[0m (use `wandb login --relogin` to force relogin)\n"
          ]
        }
      ],
      "source": [
        "!wandb login"
      ]
    },
    {
      "cell_type": "code",
      "execution_count": null,
      "metadata": {
        "id": "bJkJI2ZeBJpz"
      },
      "outputs": [],
      "source": [
        "import wandb\n",
        "\n",
        "# wandb.init(project=\"gan_test\", entity=\"hyun-s\")\n",
        "# wandb.run.name = 'cgan'"
      ]
    },
    {
      "cell_type": "code",
      "execution_count": null,
      "metadata": {
        "id": "XonZE4EhdOrC"
      },
      "outputs": [],
      "source": [
        "import pandas as pd\n",
        "import matplotlib.pyplot as plt\n",
        "import numpy as np\n",
        "import sys, os\n",
        "\n",
        "import tensorflow as tf\n",
        "from tensorflow.keras import layers, Model"
      ]
    },
    {
      "cell_type": "code",
      "execution_count": null,
      "metadata": {
        "colab": {
          "base_uri": "https://localhost:8080/"
        },
        "id": "nwKBiv96iqUQ",
        "outputId": "d1171911-b2b8-46a8-d958-3a522e1126ea"
      },
      "outputs": [
        {
          "output_type": "execute_result",
          "data": {
            "text/plain": [
              "(50000, 32, 32, 3)"
            ]
          },
          "metadata": {},
          "execution_count": 56
        }
      ],
      "source": [
        "from keras.datasets import mnist,cifar10\n",
        "\n",
        "(imgs, label), (test, t_label) = cifar10.load_data()\n",
        "imgs = (imgs/127.5) - 1 \n",
        "test = (test/127.5) - 1\n",
        "imgs.shape"
      ]
    },
    {
      "cell_type": "code",
      "execution_count": null,
      "metadata": {
        "id": "-GcEYIHveHvW"
      },
      "outputs": [],
      "source": [
        "batch = 16\n",
        "buffer = 60000\n",
        "input_dim = 512\n",
        "n_classes = 10\n",
        "img_shape=imgs[0].shape"
      ]
    },
    {
      "cell_type": "code",
      "execution_count": null,
      "metadata": {
        "colab": {
          "base_uri": "https://localhost:8080/"
        },
        "id": "5mD9_DEp6NgB",
        "outputId": "91a5b675-6980-4f0a-e876-2e4cc5731379"
      },
      "outputs": [
        {
          "output_type": "stream",
          "name": "stdout",
          "text": [
            "(16, 32, 32, 3) (16, 10)\n"
          ]
        }
      ],
      "source": [
        "y = tf.keras.utils.to_categorical(label)\n",
        "\n",
        "\n",
        "img_shape = imgs.shape[1:]\n",
        "imgs_ = tf.data.Dataset.from_tensor_slices(imgs)\n",
        "label = tf.data.Dataset.from_tensor_slices(y)\n",
        "d_set = tf.data.Dataset.zip((imgs_,label))\n",
        "d_set = d_set.shuffle(buffer).batch(batch, drop_remainder=True)\n",
        "# d_set = d_set.map(lambda x: tf.reshape(x,[batch,-1]))\n",
        "\n",
        "for x,y in d_set.take(1):\n",
        "    print(x.shape,y.shape)"
      ]
    },
    {
      "cell_type": "code",
      "source": [
        "%%writefile utils.py\n",
        "import tensorflow as tf\n",
        "from tensorflow.keras import layers\n",
        "import numpy as np\n",
        "import scipy\n",
        "\n",
        "class fid():\n",
        "    def __init__(self, shape=(75,75,3),sample = None):\n",
        "        super(fid, self).__init__()\n",
        "        self.input_shape = shape\n",
        "        self.resize = layers.Resizing(*self.input_shape[:2])\n",
        "        self.inception = tf.keras.applications.inception_v3.InceptionV3(\n",
        "                            include_top=False,\n",
        "                            weights='imagenet',\n",
        "                            input_shape=self.input_shape,\n",
        "                            pooling=None\n",
        "                        )\n",
        "        self.sample = None\n",
        "        if sample != None:\n",
        "            self.sample = self.run(sample)\n",
        "    def run(self,x):\n",
        "        x = self.resize(x)\n",
        "        x = self.inception(x)\n",
        "        x = x.numpy()\n",
        "        # x = tf.reshape(x, [x.shape[0],x.shape[-1]])\n",
        "        x = x.reshape((x.shape[0],x.shape[-1]))\n",
        "        return x\n",
        "    def calc(self, real, fake):\n",
        "        if self.sample != None:\n",
        "            real = self.sample\n",
        "        real = self.run(real)\n",
        "        fake = self.run(fake)\n",
        "        mu_r, cov_r = np.mean(real,axis=0), np.cov(real,rowvar=False)\n",
        "        mu_f, cov_f = np.mean(fake,axis=0), np.cov(fake,rowvar=False)\n",
        "        mu = np.linalg.norm(mu_r-mu_f)\n",
        "        cov = np.trace(cov_r+cov_f -2*  scipy.linalg.sqrtm(cov_r@cov_f))\n",
        "        fid = mu + cov\n",
        "        if np.iscomplex(fid):\n",
        "            fid = fid.real\n",
        "        return fid"
      ],
      "metadata": {
        "id": "L9NHZa9CFDYi",
        "colab": {
          "base_uri": "https://localhost:8080/"
        },
        "outputId": "43601158-3be6-492c-82c8-2c16b725d226"
      },
      "execution_count": 70,
      "outputs": [
        {
          "output_type": "stream",
          "name": "stdout",
          "text": [
            "Writing utils.py\n"
          ]
        }
      ]
    },
    {
      "cell_type": "code",
      "execution_count": null,
      "metadata": {
        "id": "8Nh2XNIsghht"
      },
      "outputs": [],
      "source": [
        "initializer = tf.keras.initializers.HeNormal()\n",
        "\n",
        "class PixelNormalization(tf.keras.layers.Layer):\n",
        "    def __init__(self, epsilon=1e-8):\n",
        "        super(PixelNormalization, self).__init__()\n",
        "        self.epsilon = epsilon\n",
        "\n",
        "    def call(self, inputs):\n",
        "        return inputs / tf.sqrt(tf.reduce_mean(tf.square(inputs), axis=-1, keepdims=True) + self.epsilon)\n",
        "    \n",
        "    def compute_output_shape(self, input_shape):\n",
        "        return input_shape\n",
        "\n",
        "class g_block(Model):\n",
        "    def __init__(self,img_size,n_channel=512):\n",
        "        super(g_block, self).__init__(name='{}x{}_g_block_{}'.format(img_size,img_size,n_channel))\n",
        "        self.upsampling = layers.UpSampling2D(size=2,interpolation='nearest')\n",
        "        self.conv1 = layers.Conv2D(n_channel,3,1,'same',kernel_initializer=initializer)\n",
        "        self.Pnorm1 = layers.BatchNormalization()\n",
        "        self.act1 = layers.LeakyReLU()\n",
        "        self.conv2 = layers.Conv2D(n_channel,3,1,'same',kernel_initializer=initializer)\n",
        "        self.Pnorm2 = layers.BatchNormalization()\n",
        "        self.act2 = layers.LeakyReLU()\n",
        "\n",
        "    def call(self, x, training=False):\n",
        "        x = self.upsampling(x)\n",
        "        x = self.conv1(x,training=training)\n",
        "        x = self.Pnorm1(x)\n",
        "        x = self.act1(x)\n",
        "        x = self.conv2(x,training=training)\n",
        "        x = self.Pnorm2(x)\n",
        "        x = self.act2(x)\n",
        "        return x\n",
        "\n",
        "def c_generator(input_dim, n_classes,img_shape):\n",
        "    nums = 1\n",
        "    w,h,c = img_shape\n",
        "    w = int(w/4)\n",
        "    h = int(h/4)\n",
        "    inputs = layers.Input(shape = (input_dim,))\n",
        "    input = layers.Dense(w*h*256)(inputs)\n",
        "    input = layers.Reshape((w,h,256))(input)\n",
        "\n",
        "    conditions = layers.Input(shape = (n_classes,))\n",
        "    condition = layers.Dense(w*h*256)(conditions)\n",
        "    condition = layers.Reshape((w,h,256))(condition)\n",
        "\n",
        "    x = layers.Concatenate(axis=-1)([input,condition])\n",
        "    x = layers.Reshape((w,h,512))(x)\n",
        "\n",
        "    x = g_block(2*w,n_channel=512)(x)\n",
        "    x = g_block(2*2*w,n_channel=256)(x)\n",
        "    # x = g_block(32, n_channel=128)(x)\n",
        "\n",
        "    out = layers.Conv2D(c,3,1,'same',activation='tanh')(x)\n",
        "    # out = layers.Conv2D(3,3,1,activation='tanh')(x)\n",
        "    model = Model(inputs=[inputs,conditions], outputs=out)\n",
        "    return model"
      ]
    },
    {
      "cell_type": "code",
      "execution_count": null,
      "metadata": {
        "colab": {
          "base_uri": "https://localhost:8080/"
        },
        "id": "_Jh_2vKRhaCZ",
        "outputId": "f182db1f-ffb7-4daa-d35d-38079cf2f934"
      },
      "outputs": [
        {
          "output_type": "stream",
          "name": "stdout",
          "text": [
            "(16, 32, 32, 3) (16, 10)\n"
          ]
        }
      ],
      "source": [
        "g = c_generator(input_dim,n_classes,img_shape)\n",
        "\n",
        "def z_gen(batch,input_dim):\n",
        "    noise = tf.random.normal([batch,input_dim])\n",
        "    condition = np.random.randint(0,n_classes,size=(batch,1))\n",
        "    condition = tf.keras.utils.to_categorical(condition)\n",
        "    return (noise,condition)\n",
        "\n",
        "z,c = z_gen(batch, input_dim)\n",
        "sample_img = g([z,c])\n",
        "print(sample_img.shape,c.shape)"
      ]
    },
    {
      "cell_type": "code",
      "execution_count": null,
      "metadata": {
        "id": "WOfn4EcLG0aY"
      },
      "outputs": [],
      "source": [
        "class d_block(Model):\n",
        "    def __init__(self, img_size, n_channel=512): \n",
        "        super(d_block, self).__init__(name='{}x{}_d_block_{}'.format(img_size,img_size,n_channel))\n",
        "        if n_channel==512:\n",
        "            self.conv1 = layers.Conv2D(n_channel,3,1,'same',kernel_initializer=initializer)\n",
        "            self.act1 = layers.LeakyReLU()\n",
        "            self.conv2 = layers.Conv2D(n_channel,3,1,'same',kernel_initializer=initializer)\n",
        "            self.act2 = layers.LeakyReLU()\n",
        "            self.down = layers.AveragePooling2D(2)\n",
        "        else:\n",
        "            self.conv1 = layers.Conv2D(n_channel,3,1,'same',kernel_initializer=initializer)\n",
        "            self.act1 = layers.LeakyReLU()\n",
        "            self.conv2 = layers.Conv2D(n_channel*2,3,1,'same',kernel_initializer=initializer)\n",
        "            self.act2 = layers.LeakyReLU()\n",
        "            self.down = layers.AveragePooling2D(2)\n",
        "\n",
        "    def call(self, x, training=False):\n",
        "        x = self.conv1(x,training=training)\n",
        "        x = self.act1(x)\n",
        "        x = self.conv2(x,training=training)\n",
        "        x = self.act2(x)\n",
        "        x = self.down(x)\n",
        "        return x\n",
        "\n",
        "def c_discriminator(img_shape, n_classes):\n",
        "    w,h,c = img_shape\n",
        "    w = int(w/4)\n",
        "    h = int(h/4)\n",
        "    inputs = layers.Input(shape = img_shape)\n",
        "    conditions = layers.Input(shape = (n_classes,))\n",
        "\n",
        "    condition = layers.Dense(4*w*4*h*c)(conditions)\n",
        "    condition = layers.Reshape((4*w,4*h,c))(condition)\n",
        "\n",
        "    input = layers.Concatenate(axis=-1)([inputs,condition])\n",
        "\n",
        "    # x = d_block(32,n_channel=128)(input)\n",
        "    x = d_block(4*w,n_channel=128)(input)\n",
        "    x = d_block(2*w,n_channel=256)(x)\n",
        "    x = d_block(w,n_channel=256)(x)\n",
        "\n",
        "    x = layers.GlobalAveragePooling2D()(x)\n",
        "    x = layers.Dense(512, activation='sigmoid')(x)\n",
        "    x = layers.Dense(1, activation='sigmoid')(x)\n",
        "\n",
        "    model = Model(inputs=[inputs,conditions], outputs=x)\n",
        "    return model"
      ]
    },
    {
      "cell_type": "code",
      "execution_count": null,
      "metadata": {
        "colab": {
          "base_uri": "https://localhost:8080/"
        },
        "id": "dH4RCTF1y2JE",
        "outputId": "932b32ee-4850-43b1-b3c9-41b398a99799"
      },
      "outputs": [
        {
          "output_type": "execute_result",
          "data": {
            "text/plain": [
              "<tf.Tensor: shape=(16, 1), dtype=float32, numpy=\n",
              "array([[0.36958876],\n",
              "       [0.36950424],\n",
              "       [0.36932373],\n",
              "       [0.3697824 ],\n",
              "       [0.37014827],\n",
              "       [0.36898562],\n",
              "       [0.36965683],\n",
              "       [0.3693654 ],\n",
              "       [0.3687598 ],\n",
              "       [0.36943823],\n",
              "       [0.36919117],\n",
              "       [0.3694297 ],\n",
              "       [0.36908376],\n",
              "       [0.3696734 ],\n",
              "       [0.36974916],\n",
              "       [0.37012175]], dtype=float32)>"
            ]
          },
          "metadata": {},
          "execution_count": 63
        }
      ],
      "source": [
        "d = c_discriminator(img_shape,n_classes)\n",
        "\n",
        "d([sample_img,c])"
      ]
    },
    {
      "cell_type": "code",
      "execution_count": null,
      "metadata": {
        "id": "hulJLExyGOCA"
      },
      "outputs": [],
      "source": [
        "cross_entropy = tf.keras.losses.BinaryCrossentropy(from_logits=True)\n",
        "\n",
        "def d_loss(real_output, fake_output):\n",
        "    real_loss = cross_entropy(tf.ones_like(real_output), real_output)\n",
        "    fake_loss = cross_entropy(tf.zeros_like(fake_output), fake_output)\n",
        "    total_loss = real_loss + fake_loss\n",
        "    return total_loss\n",
        "\n",
        "def g_loss(fake_output):\n",
        "    return cross_entropy(tf.ones_like(fake_output), fake_output)\n",
        "\n",
        "g_opt = tf.optimizers.Adam(0.0002, 0.5)\n",
        "d_opt = tf.optimizers.Adam(0.0002, 0.5)"
      ]
    },
    {
      "cell_type": "code",
      "execution_count": null,
      "metadata": {
        "id": "XlcbgQwY3Dec",
        "colab": {
          "base_uri": "https://localhost:8080/"
        },
        "outputId": "88c4c838-8a19-4d7a-d128-06c072b91164"
      },
      "outputs": [
        {
          "output_type": "stream",
          "name": "stderr",
          "text": [
            "/usr/local/lib/python3.7/dist-packages/tensorflow/python/util/dispatch.py:1082: UserWarning: \"`binary_crossentropy` received `from_logits=True`, but the `output` argument was produced by a sigmoid or softmax activation and thus does not represent logits. Was this intended?\"\n",
            "  return dispatch_target(*args, **kwargs)\n"
          ]
        }
      ],
      "source": [
        "@tf.function\n",
        "def train_step(images,real_c):\n",
        "    noise,condition = z_gen(batch,input_dim)\n",
        "\n",
        "    with tf.GradientTape() as gen_tape, tf.GradientTape() as disc_tape:\n",
        "        generated_images = g([noise,condition], training=True)\n",
        "\n",
        "        real_output = d([images,real_c], training=True)\n",
        "        fake_output = d([generated_images,condition], training=True)\n",
        "\n",
        "        gen_loss = g_loss(fake_output)\n",
        "        disc_loss = d_loss(real_output, fake_output)\n",
        "    gradients_of_generator = gen_tape.gradient(gen_loss, g.trainable_variables)\n",
        "    gradients_of_discriminator = disc_tape.gradient(disc_loss, d.trainable_variables)\n",
        "\n",
        "    g_opt.apply_gradients(zip(gradients_of_generator, g.trainable_variables))\n",
        "    d_opt.apply_gradients(zip(gradients_of_discriminator, d.trainable_variables))\n",
        "\n",
        "    return gen_loss,disc_loss\n",
        "\n",
        "for x in d_set.take(2):\n",
        "    noise,condition = z_gen(batch,input_dim)\n",
        "    aa,bb = train_step(*x)"
      ]
    },
    {
      "cell_type": "code",
      "execution_count": null,
      "metadata": {
        "id": "Tm7vaURG3uKM"
      },
      "outputs": [],
      "source": [
        "from IPython import display\n",
        "\n",
        "x = tf.random.normal([10,input_dim])\n",
        "c = [x for x in range(10)]\n",
        "c = tf.keras.utils.to_categorical(c)\n",
        "sample=(x,c)\n",
        "def generating_img_plot(g,sample = None):\n",
        "    if sample == None:\n",
        "        x = tf.random.normal([batch,input_dim])\n",
        "        c = [x for x in range(10)]\n",
        "        c = tf.keras.utils.to_categorical(c)\n",
        "    else:\n",
        "        x = sample\n",
        "    imgs = g([x[0],x[1]]).numpy()\n",
        "    rows = 2\n",
        "    cols = 5\n",
        "    fig = plt.figure(figsize=(16,8))\n",
        "\n",
        "    for idx, (img,c) in enumerate(zip(imgs,x[1])):\n",
        "        img = (np.max(img) - img) / (np.max(img) - np.min(img))\n",
        "        \n",
        "        ax = fig.add_subplot(rows, cols, idx+1)\n",
        "        ax.set_title('Digit : {}'.format(np.argmax(c)))\n",
        "        if img.shape[-1] != 3:\n",
        "            img = img.reshape((28,28))\n",
        "            ax.imshow(img, cmap='gray')\n",
        "        else:\n",
        "            ax.imshow(img)\n",
        "\n",
        "        ax.axis('off')\n",
        "    plt.show()\n",
        "    fig.savefig('full_figure.png')\n",
        "    return imgs,np.argmax(x[1],axis=0)"
      ]
    },
    {
      "cell_type": "code",
      "execution_count": 69,
      "metadata": {
        "colab": {
          "base_uri": "https://localhost:8080/",
          "height": 745
        },
        "id": "ccksgL2wd7pq",
        "outputId": "bae35e19-a732-4a93-8de8-fe5115992fc9"
      },
      "outputs": [
        {
          "output_type": "display_data",
          "data": {
            "text/plain": [
              "<Figure size 1152x576 with 10 Axes>"
            ],
            "image/png": "[encoded data removed]"
          },
          "metadata": {
            "needs_background": "light"
          }
        },
        {
          "output_type": "error",
          "ename": "KeyboardInterrupt",
          "evalue": "ignored",
          "traceback": [
            "\u001b[0;31m---------------------------------------------------------------------------\u001b[0m",
            "\u001b[0;31mKeyboardInterrupt\u001b[0m                         Traceback (most recent call last)",
            "\u001b[0;32m<ipython-input-69-0c7820f117d9>\u001b[0m in \u001b[0;36m<module>\u001b[0;34m()\u001b[0m\n\u001b[1;32m     17\u001b[0m         \u001b[0;31m# fids = f.calc(img,i)\u001b[0m\u001b[0;34m\u001b[0m\u001b[0;34m\u001b[0m\u001b[0;34m\u001b[0m\u001b[0m\n\u001b[1;32m     18\u001b[0m         \u001b[0md_losses\u001b[0m\u001b[0;34m.\u001b[0m\u001b[0mappend\u001b[0m\u001b[0;34m(\u001b[0m\u001b[0mdis_loss\u001b[0m\u001b[0;34m.\u001b[0m\u001b[0mnumpy\u001b[0m\u001b[0;34m(\u001b[0m\u001b[0;34m)\u001b[0m\u001b[0;34m)\u001b[0m\u001b[0;34m\u001b[0m\u001b[0;34m\u001b[0m\u001b[0m\n\u001b[0;32m---> 19\u001b[0;31m         \u001b[0mg_losses\u001b[0m\u001b[0;34m.\u001b[0m\u001b[0mappend\u001b[0m\u001b[0;34m(\u001b[0m\u001b[0mgen_loss\u001b[0m\u001b[0;34m.\u001b[0m\u001b[0mnumpy\u001b[0m\u001b[0;34m(\u001b[0m\u001b[0;34m)\u001b[0m\u001b[0;34m)\u001b[0m\u001b[0;34m\u001b[0m\u001b[0;34m\u001b[0m\u001b[0m\n\u001b[0m\u001b[1;32m     20\u001b[0m         \u001b[0mwandb\u001b[0m\u001b[0;34m.\u001b[0m\u001b[0mlog\u001b[0m\u001b[0;34m(\u001b[0m\u001b[0;34m{\u001b[0m\u001b[0;34m\"g_loss\"\u001b[0m\u001b[0;34m:\u001b[0m \u001b[0mgen_loss\u001b[0m\u001b[0;34m.\u001b[0m\u001b[0mnumpy\u001b[0m\u001b[0;34m(\u001b[0m\u001b[0;34m)\u001b[0m\u001b[0;34m}\u001b[0m\u001b[0;34m)\u001b[0m\u001b[0;34m\u001b[0m\u001b[0;34m\u001b[0m\u001b[0m\n\u001b[1;32m     21\u001b[0m         \u001b[0mwandb\u001b[0m\u001b[0;34m.\u001b[0m\u001b[0mlog\u001b[0m\u001b[0;34m(\u001b[0m\u001b[0;34m{\u001b[0m\u001b[0;34m\"d_loss\"\u001b[0m\u001b[0;34m:\u001b[0m \u001b[0mdis_loss\u001b[0m\u001b[0;34m.\u001b[0m\u001b[0mnumpy\u001b[0m\u001b[0;34m(\u001b[0m\u001b[0;34m)\u001b[0m\u001b[0;34m}\u001b[0m\u001b[0;34m)\u001b[0m\u001b[0;34m\u001b[0m\u001b[0;34m\u001b[0m\u001b[0m\n",
            "\u001b[0;32m/usr/local/lib/python3.7/dist-packages/tensorflow/python/framework/ops.py\u001b[0m in \u001b[0;36mnumpy\u001b[0;34m(self)\u001b[0m\n\u001b[1;32m   1221\u001b[0m     \"\"\"\n\u001b[1;32m   1222\u001b[0m     \u001b[0;31m# TODO(slebedev): Consider avoiding a copy for non-CPU or remote tensors.\u001b[0m\u001b[0;34m\u001b[0m\u001b[0;34m\u001b[0m\u001b[0;34m\u001b[0m\u001b[0m\n\u001b[0;32m-> 1223\u001b[0;31m     \u001b[0mmaybe_arr\u001b[0m \u001b[0;34m=\u001b[0m \u001b[0mself\u001b[0m\u001b[0;34m.\u001b[0m\u001b[0m_numpy\u001b[0m\u001b[0;34m(\u001b[0m\u001b[0;34m)\u001b[0m  \u001b[0;31m# pylint: disable=protected-access\u001b[0m\u001b[0;34m\u001b[0m\u001b[0;34m\u001b[0m\u001b[0m\n\u001b[0m\u001b[1;32m   1224\u001b[0m     \u001b[0;32mreturn\u001b[0m \u001b[0mmaybe_arr\u001b[0m\u001b[0;34m.\u001b[0m\u001b[0mcopy\u001b[0m\u001b[0;34m(\u001b[0m\u001b[0;34m)\u001b[0m \u001b[0;32mif\u001b[0m \u001b[0misinstance\u001b[0m\u001b[0;34m(\u001b[0m\u001b[0mmaybe_arr\u001b[0m\u001b[0;34m,\u001b[0m \u001b[0mnp\u001b[0m\u001b[0;34m.\u001b[0m\u001b[0mndarray\u001b[0m\u001b[0;34m)\u001b[0m \u001b[0;32melse\u001b[0m \u001b[0mmaybe_arr\u001b[0m\u001b[0;34m\u001b[0m\u001b[0;34m\u001b[0m\u001b[0m\n\u001b[1;32m   1225\u001b[0m \u001b[0;34m\u001b[0m\u001b[0m\n",
            "\u001b[0;32m/usr/local/lib/python3.7/dist-packages/tensorflow/python/framework/ops.py\u001b[0m in \u001b[0;36m_numpy\u001b[0;34m(self)\u001b[0m\n\u001b[1;32m   1187\u001b[0m   \u001b[0;32mdef\u001b[0m \u001b[0m_numpy\u001b[0m\u001b[0;34m(\u001b[0m\u001b[0mself\u001b[0m\u001b[0;34m)\u001b[0m\u001b[0;34m:\u001b[0m\u001b[0;34m\u001b[0m\u001b[0;34m\u001b[0m\u001b[0m\n\u001b[1;32m   1188\u001b[0m     \u001b[0;32mtry\u001b[0m\u001b[0;34m:\u001b[0m\u001b[0;34m\u001b[0m\u001b[0;34m\u001b[0m\u001b[0m\n\u001b[0;32m-> 1189\u001b[0;31m       \u001b[0;32mreturn\u001b[0m \u001b[0mself\u001b[0m\u001b[0;34m.\u001b[0m\u001b[0m_numpy_internal\u001b[0m\u001b[0;34m(\u001b[0m\u001b[0;34m)\u001b[0m\u001b[0;34m\u001b[0m\u001b[0;34m\u001b[0m\u001b[0m\n\u001b[0m\u001b[1;32m   1190\u001b[0m     \u001b[0;32mexcept\u001b[0m \u001b[0mcore\u001b[0m\u001b[0;34m.\u001b[0m\u001b[0m_NotOkStatusException\u001b[0m \u001b[0;32mas\u001b[0m \u001b[0me\u001b[0m\u001b[0;34m:\u001b[0m  \u001b[0;31m# pylint: disable=protected-access\u001b[0m\u001b[0;34m\u001b[0m\u001b[0;34m\u001b[0m\u001b[0m\n\u001b[1;32m   1191\u001b[0m       \u001b[0;32mraise\u001b[0m \u001b[0mcore\u001b[0m\u001b[0;34m.\u001b[0m\u001b[0m_status_to_exception\u001b[0m\u001b[0;34m(\u001b[0m\u001b[0me\u001b[0m\u001b[0;34m)\u001b[0m \u001b[0;32mfrom\u001b[0m \u001b[0;32mNone\u001b[0m  \u001b[0;31m# pylint: disable=protected-access\u001b[0m\u001b[0;34m\u001b[0m\u001b[0;34m\u001b[0m\u001b[0m\n",
            "\u001b[0;31mKeyboardInterrupt\u001b[0m: "
          ]
        }
      ],
      "source": [
        "import wandb\n",
        "wandb.init(project=\"gan_test\", entity=\"hyun-s\",name='cgan_f')\n",
        "wandb.run.name = 'cgan_f'\n",
        "\n",
        "# f = fid()\n",
        "fids=0\n",
        "g = c_generator(input_dim,n_classes,img_shape)\n",
        "d = c_discriminator(img_shape,n_classes)\n",
        "for epoch in range(100):\n",
        "    d_losses = []\n",
        "    g_losses = []\n",
        "    for idx, (img,cls) in enumerate(d_set):\n",
        "        \n",
        "        dis_loss,gen_loss = train_step(img,cls)\n",
        "        display.clear_output(wait=True)\n",
        "        i,c = generating_img_plot(g,sample)\n",
        "        # fids = f.calc(img,i)\n",
        "        d_losses.append(dis_loss.numpy())\n",
        "        g_losses.append(gen_loss.numpy())\n",
        "        wandb.log({\"g_loss\": gen_loss.numpy()})\n",
        "        wandb.log({\"d_loss\": dis_loss.numpy()})\n",
        "        # wandb.log({\"fid\": np.float32(fids)})\n",
        "        wandb.log({'Generate Image' : wandb.Image('/content/full_figure.png')})\n",
        "        print('{}epoch, {}batch | G_loss: {:.4f}, D_loss: {:.4f}, FID: {:.4f}'.format(\n",
        "            epoch,idx,g_losses[-1],d_losses[-1],fids))\n",
        "    g_losses = np.mean(g_losses)\n",
        "    d_losses = np.mean(d_losses)"
      ]
    },
    {
      "cell_type": "code",
      "source": [
        ""
      ],
      "metadata": {
        "id": "fmS1mgm1EeqR"
      },
      "execution_count": null,
      "outputs": []
    }
  ],
  "metadata": {
    "accelerator": "GPU",
    "colab": {
      "name": "cgan.ipynb",
      "provenance": []
    },
    "kernelspec": {
      "display_name": "Python 3",
      "name": "python3"
    },
    "language_info": {
      "name": "python"
    }
  },
  "nbformat": 4,
  "nbformat_minor": 0
}